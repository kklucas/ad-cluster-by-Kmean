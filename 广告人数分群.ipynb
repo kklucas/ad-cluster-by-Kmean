{
 "cells": [
  {
   "cell_type": "raw",
   "metadata": {},
   "source": [
    "# -*- coding: utf-8 -*-\n",
    "\n",
    "'''\n",
    "描述：案例-基于自动节点树的数据异常原因下探分析\n",
    "\n",
    "'''"
   ]
  },
  {
   "cell_type": "code",
   "execution_count": 38,
   "metadata": {},
   "outputs": [],
   "source": [
    "import sys\n",
    "import datetime\n",
    "import pandas as pd\n",
    "import numpy as np\n",
    "from graphviz import Digraph\n",
    "from sklearn.feature_extraction import DictVectorizer\n",
    "from sklearn.preprocessing import MinMaxScaler\n",
    "from sklearn.cluster import KMeans\n",
    "from sklearn import metrics\n",
    "import matplotlib.pyplot as plt"
   ]
  },
  {
   "cell_type": "code",
   "execution_count": 6,
   "metadata": {},
   "outputs": [],
   "source": [
    "\n",
    "data=pd.read_csv(r'C:\\Users\\kkluc\\Python Code\\python ML example\\chapter7\\ad_performance.txt',delimiter='\\t')"
   ]
  },
  {
   "cell_type": "code",
   "execution_count": 9,
   "metadata": {},
   "outputs": [
    {
     "name": "stdout",
     "output_type": "stream",
     "text": [
      "***********************Data overview:***********************\n",
      "   渠道代号    日均UV   平均注册率   平均搜索量    访问深度  平均停留时间   订单转化率  投放总时间 素材类型    广告类型  \\\n",
      "0  A203    3.69  0.0071  0.0214  2.3071  419.77  0.0258   20.0  jpg  banner   \n",
      "1  A387  178.70  0.0040  0.0324  2.0489  157.94  0.0030   19.0  jpg  banner   \n",
      "\n",
      "  合作方式    广告尺寸 广告卖点  \n",
      "0  roi  140*40   打折  \n",
      "1  cpc  140*40   满减  \n",
      "************************Data dtypes:************************\n",
      "     渠道代号     日均UV    平均注册率    平均搜索量     访问深度   平均停留时间    订单转化率    投放总时间  \\\n",
      "0  object  float64  float64  float64  float64  float64  float64  float64   \n",
      "\n",
      "     素材类型    广告类型    合作方式    广告尺寸    广告卖点  \n",
      "0  object  object  object  object  object  \n",
      "************************ NA counts:*************************\n",
      "   渠道代号  日均UV  平均注册率  平均搜索量  访问深度  平均停留时间  订单转化率  投放总时间  素材类型  广告类型  合作方式  \\\n",
      "0     0     0      0      0     0       2      0      0     0     0     0   \n",
      "\n",
      "   广告尺寸  广告卖点  \n",
      "0     0     0  \n",
      "*************************Data DESC:*************************\n",
      "        count    mean      std   min     25%     50%     75%       max\n",
      "日均UV    889.0  540.85  1634.41  0.06    6.18  114.18  466.87  25294.77\n",
      "平均注册率   889.0    0.00     0.00  0.00    0.00    0.00    0.00      0.04\n",
      "平均搜索量   889.0    0.03     0.11  0.00    0.00    0.00    0.01      1.04\n",
      "访问深度    889.0    2.17     3.80  1.00    1.39    1.79    2.22     98.98\n",
      "平均停留时间  887.0  262.67   224.36  1.64  126.02  236.55  357.98   4450.83\n",
      "订单转化率   889.0    0.00     0.01  0.00    0.00    0.00    0.00      0.22\n",
      "投放总时间   889.0   16.05     8.51  1.00    9.00   16.00   24.00     30.00\n",
      "*******************Correlation analysis:********************\n",
      "        日均UV  平均注册率  平均搜索量  访问深度  平均停留时间  订单转化率  投放总时间\n",
      "日均UV    1.00  -0.05  -0.07 -0.02    0.04  -0.05  -0.04\n",
      "平均注册率  -0.05   1.00   0.24  0.11    0.22   0.32  -0.01\n",
      "平均搜索量  -0.07   0.24   1.00  0.06    0.17   0.13  -0.03\n",
      "访问深度   -0.02   0.11   0.06  1.00    0.72   0.16   0.06\n",
      "平均停留时间  0.04   0.22   0.17  0.72    1.00   0.25   0.05\n",
      "订单转化率  -0.05   0.32   0.13  0.16    0.25   1.00  -0.00\n",
      "投放总时间  -0.04  -0.01  -0.03  0.06    0.05  -0.00   1.00\n"
     ]
    }
   ],
   "source": [
    "# 数据审查和校验\n",
    "print ('{:*^60}'.format('Data overview:'))\n",
    "print (data.head(2))  # 打印输出前2条数据\n",
    "print ('{:*^60}'.format('Data dtypes:'))\n",
    "print (pd.DataFrame(data.dtypes).T)  # 打印数据类型分布\n",
    "print ('{:*^60}'.format(' NA counts:'))\n",
    "print (pd.DataFrame(data.isnull().sum()).T)  # 查看缺失值情况\n",
    "print ('{:*^60}'.format('Data DESC:'))\n",
    "print (data.describe().round(2).T)  # 打印原始数据基本描述性信息\n",
    "print ('{:*^60}'.format('Correlation analysis:'))\n",
    "print (data.corr().round(2).T)  # 打印原始数据相关性信息"
   ]
  },
  {
   "cell_type": "code",
   "execution_count": 10,
   "metadata": {},
   "outputs": [],
   "source": [
    "data=data.fillna(data['平均停留时间'].mean())"
   ]
  },
  {
   "cell_type": "code",
   "execution_count": 12,
   "metadata": {},
   "outputs": [
    {
     "name": "stdout",
     "output_type": "stream",
     "text": [
      "<class 'pandas.core.frame.DataFrame'>\n",
      "RangeIndex: 889 entries, 0 to 888\n",
      "Data columns (total 13 columns):\n",
      "渠道代号      889 non-null object\n",
      "日均UV      889 non-null float64\n",
      "平均注册率     889 non-null float64\n",
      "平均搜索量     889 non-null float64\n",
      "访问深度      889 non-null float64\n",
      "平均停留时间    889 non-null float64\n",
      "订单转化率     889 non-null float64\n",
      "投放总时间     889 non-null float64\n",
      "素材类型      889 non-null object\n",
      "广告类型      889 non-null object\n",
      "合作方式      889 non-null object\n",
      "广告尺寸      889 non-null object\n",
      "广告卖点      889 non-null object\n",
      "dtypes: float64(7), object(6)\n",
      "memory usage: 90.4+ KB\n"
     ]
    }
   ],
   "source": [
    "data.info()"
   ]
  },
  {
   "cell_type": "code",
   "execution_count": 14,
   "metadata": {},
   "outputs": [
    {
     "data": {
      "text/html": [
       "<div>\n",
       "<style scoped>\n",
       "    .dataframe tbody tr th:only-of-type {\n",
       "        vertical-align: middle;\n",
       "    }\n",
       "\n",
       "    .dataframe tbody tr th {\n",
       "        vertical-align: top;\n",
       "    }\n",
       "\n",
       "    .dataframe thead th {\n",
       "        text-align: right;\n",
       "    }\n",
       "</style>\n",
       "<table border=\"1\" class=\"dataframe\">\n",
       "  <thead>\n",
       "    <tr style=\"text-align: right;\">\n",
       "      <th></th>\n",
       "      <th>渠道代号</th>\n",
       "      <th>日均UV</th>\n",
       "      <th>平均注册率</th>\n",
       "      <th>平均搜索量</th>\n",
       "      <th>访问深度</th>\n",
       "      <th>平均停留时间</th>\n",
       "      <th>订单转化率</th>\n",
       "      <th>投放总时间</th>\n",
       "      <th>素材类型</th>\n",
       "      <th>广告类型</th>\n",
       "      <th>合作方式</th>\n",
       "      <th>广告尺寸</th>\n",
       "      <th>广告卖点</th>\n",
       "    </tr>\n",
       "  </thead>\n",
       "  <tbody>\n",
       "    <tr>\n",
       "      <th>0</th>\n",
       "      <td>A203</td>\n",
       "      <td>3.69</td>\n",
       "      <td>0.0071</td>\n",
       "      <td>0.0214</td>\n",
       "      <td>2.3071</td>\n",
       "      <td>419.77</td>\n",
       "      <td>0.0258</td>\n",
       "      <td>20.0</td>\n",
       "      <td>jpg</td>\n",
       "      <td>banner</td>\n",
       "      <td>roi</td>\n",
       "      <td>140*40</td>\n",
       "      <td>打折</td>\n",
       "    </tr>\n",
       "    <tr>\n",
       "      <th>1</th>\n",
       "      <td>A387</td>\n",
       "      <td>178.70</td>\n",
       "      <td>0.0040</td>\n",
       "      <td>0.0324</td>\n",
       "      <td>2.0489</td>\n",
       "      <td>157.94</td>\n",
       "      <td>0.0030</td>\n",
       "      <td>19.0</td>\n",
       "      <td>jpg</td>\n",
       "      <td>banner</td>\n",
       "      <td>cpc</td>\n",
       "      <td>140*40</td>\n",
       "      <td>满减</td>\n",
       "    </tr>\n",
       "    <tr>\n",
       "      <th>2</th>\n",
       "      <td>A388</td>\n",
       "      <td>91.77</td>\n",
       "      <td>0.0022</td>\n",
       "      <td>0.0530</td>\n",
       "      <td>1.8771</td>\n",
       "      <td>357.93</td>\n",
       "      <td>0.0026</td>\n",
       "      <td>4.0</td>\n",
       "      <td>jpg</td>\n",
       "      <td>banner</td>\n",
       "      <td>cpc</td>\n",
       "      <td>140*40</td>\n",
       "      <td>满减</td>\n",
       "    </tr>\n",
       "    <tr>\n",
       "      <th>3</th>\n",
       "      <td>A389</td>\n",
       "      <td>1.09</td>\n",
       "      <td>0.0074</td>\n",
       "      <td>0.3382</td>\n",
       "      <td>4.2426</td>\n",
       "      <td>364.07</td>\n",
       "      <td>0.0153</td>\n",
       "      <td>10.0</td>\n",
       "      <td>jpg</td>\n",
       "      <td>banner</td>\n",
       "      <td>cpc</td>\n",
       "      <td>140*40</td>\n",
       "      <td>满减</td>\n",
       "    </tr>\n",
       "    <tr>\n",
       "      <th>4</th>\n",
       "      <td>A390</td>\n",
       "      <td>3.37</td>\n",
       "      <td>0.0028</td>\n",
       "      <td>0.1740</td>\n",
       "      <td>2.1934</td>\n",
       "      <td>313.34</td>\n",
       "      <td>0.0007</td>\n",
       "      <td>30.0</td>\n",
       "      <td>jpg</td>\n",
       "      <td>banner</td>\n",
       "      <td>cpc</td>\n",
       "      <td>140*40</td>\n",
       "      <td>满减</td>\n",
       "    </tr>\n",
       "  </tbody>\n",
       "</table>\n",
       "</div>"
      ],
      "text/plain": [
       "   渠道代号    日均UV   平均注册率   平均搜索量    访问深度  平均停留时间   订单转化率  投放总时间 素材类型    广告类型  \\\n",
       "0  A203    3.69  0.0071  0.0214  2.3071  419.77  0.0258   20.0  jpg  banner   \n",
       "1  A387  178.70  0.0040  0.0324  2.0489  157.94  0.0030   19.0  jpg  banner   \n",
       "2  A388   91.77  0.0022  0.0530  1.8771  357.93  0.0026    4.0  jpg  banner   \n",
       "3  A389    1.09  0.0074  0.3382  4.2426  364.07  0.0153   10.0  jpg  banner   \n",
       "4  A390    3.37  0.0028  0.1740  2.1934  313.34  0.0007   30.0  jpg  banner   \n",
       "\n",
       "  合作方式    广告尺寸 广告卖点  \n",
       "0  roi  140*40   打折  \n",
       "1  cpc  140*40   满减  \n",
       "2  cpc  140*40   满减  \n",
       "3  cpc  140*40   满减  \n",
       "4  cpc  140*40   满减  "
      ]
     },
     "execution_count": 14,
     "metadata": {},
     "output_type": "execute_result"
    }
   ],
   "source": [
    "data.head()"
   ]
  },
  {
   "cell_type": "code",
   "execution_count": 15,
   "metadata": {},
   "outputs": [
    {
     "name": "stdout",
     "output_type": "stream",
     "text": [
      "[['jpg', 'swf', 'gif', 'sp'], ['banner', 'tips', '不确定', '横幅', '通栏', '暂停'], ['roi', 'cpc', 'cpm', 'cpd'], ['140*40', '308*388', '450*300', '600*90', '480*360', '960*126', '900*120', '390*270'], ['打折', '满减', '满赠', '秒杀', '直降', '满返']]\n"
     ]
    }
   ],
   "source": [
    "# 字符串分类转整数分类\n",
    "# part1\n",
    "conver_cols = ['素材类型', '广告类型', '合作方式', '广告尺寸', '广告卖点']\n",
    "convert_matrix = data[conver_cols]  # 获得要转换的数组\n",
    "lines = data.shape[0]  # 获得总记录数\n",
    "dict_list = []  # 总空列表，用于存放字符串与对应索引组成的字典\n",
    "unique_list = []  # 总唯一值列表，用于存储每个列的唯一值列表\n",
    "\n",
    "# part2\n",
    "for col_name in conver_cols:  # 循环读取每个列名\n",
    "    cols_unqiue_value = data[col_name].unique().tolist()  # 获取列的唯一值列表\n",
    "    unique_list.append(cols_unqiue_value)  # 将唯一值列表追加到总列表\n",
    "print(unique_list)"
   ]
  },
  {
   "cell_type": "code",
   "execution_count": 18,
   "metadata": {},
   "outputs": [],
   "source": [
    "# part3\n",
    "for line_index in range(lines):  # 读取每行索引\n",
    "    each_record = convert_matrix.iloc[line_index]  # 获得每行数据，是一个Series\n",
    "    \n",
    "    for each_index, each_data in enumerate(each_record):  # 读取Series每行对应的索引值\n",
    "        list_value = unique_list[each_index]  # 读取该行索引对应到总唯一值列表列索引下的数据(其实是相当于原来的列做了转置成了行，目的是查找唯一值在列表中的位置)\n",
    "        each_record[each_index] = list_value.index(each_data)  # 获得每个值对应到总唯一值列表中的索引\n",
    "    each_dict = dict(zip(conver_cols, each_record))  # 将每个值和对应的索引组合字典\n",
    "    dict_list.append(each_dict)  # 将字典追加到总列表"
   ]
  },
  {
   "cell_type": "code",
   "execution_count": 22,
   "metadata": {},
   "outputs": [],
   "source": [
    "# part4 #DictVectorizer使用字典储存的数据进行特征提取与向量化\n",
    "model_dvtransform = DictVectorizer(sparse=False, dtype=np.int64)  # 建立转换模型对象\n",
    "data_dictvec = model_dvtransform.fit_transform(dict_list)  # 应用分类转换训练"
   ]
  },
  {
   "cell_type": "code",
   "execution_count": 27,
   "metadata": {},
   "outputs": [],
   "source": [
    "# 数据标准化\n",
    "sacle_matrix = data.iloc[:, 1:8]  # 获得要转换的矩阵\n",
    "minmax_scaler = MinMaxScaler()  # 建立MinMaxScaler模型对象\n",
    "data_scaled = minmax_scaler.fit_transform(sacle_matrix)  # MinMaxScaler标准化处理"
   ]
  },
  {
   "cell_type": "code",
   "execution_count": 28,
   "metadata": {},
   "outputs": [],
   "source": [
    "# 合并所有输入维度\n",
    "X = np.hstack((data_scaled, data_dictvec))"
   ]
  },
  {
   "cell_type": "code",
   "execution_count": 31,
   "metadata": {},
   "outputs": [
    {
     "name": "stdout",
     "output_type": "stream",
     "text": [
      "**************K value and silhouette summary:***************\n",
      "[[2.         0.46692821]\n",
      " [3.         0.54904646]\n",
      " [4.         0.56968547]\n",
      " [5.         0.48186604]\n",
      " [6.         0.45477667]\n",
      " [7.         0.48204261]\n",
      " [8.         0.50447223]\n",
      " [9.         0.52697493]]\n",
      "Best K is:4 with average silhouette of 0.5697\n"
     ]
    }
   ],
   "source": [
    "score_list = list()  # 用来存储每个K下模型的平局轮廓系数\n",
    "silhouette_int = -1  # 初始化的平均轮廓系数阀值\n",
    "for n_clusters in range(2, 10):  # 遍历从2到10几个有限组\n",
    "    model_kmeans = KMeans(n_clusters=n_clusters, random_state=0)  # 建立聚类模型对象\n",
    "    cluster_labels_tmp = model_kmeans.fit_predict(X)  # 训练聚类模型\n",
    "    silhouette_tmp = metrics.silhouette_score(X, cluster_labels_tmp)  # 得到每个K下的平均轮廓系数\n",
    "    if silhouette_tmp > silhouette_int:  # 如果平均轮廓系数更高\n",
    "        best_k = n_clusters  # 将最好的K存储下来\n",
    "        silhouette_int = silhouette_tmp  # 将最好的平均轮廓得分存储下来\n",
    "        best_kmeans = model_kmeans  # 将最好的模型存储下来\n",
    "        cluster_labels_k = cluster_labels_tmp  # 将最好的聚类标签存储下来\n",
    "    score_list.append([n_clusters, silhouette_tmp])  # 将每次K及其得分追加到列表\n",
    "print ('{:*^60}'.format('K value and silhouette summary:'))\n",
    "print (np.array(score_list))  # 打印输出所有K下的详细得分\n",
    "print ('Best K is:{0} with average silhouette of {1}'.format(best_k, silhouette_int.round(4)))\n"
   ]
  },
  {
   "cell_type": "code",
   "execution_count": 36,
   "metadata": {},
   "outputs": [
    {
     "name": "stdout",
     "output_type": "stream",
     "text": [
      "************Detailed features for all clusters:*************\n",
      "clusters          0        1        2        3\n",
      "counts          411      297       27      154\n",
      "percentage     0.46     0.33     0.03     0.17\n",
      "日均UV        1369.81  1194.69  1263.03   2718.7\n",
      "平均注册率         0.003    0.003    0.003    0.005\n",
      "平均搜索量         0.082    0.144    0.151    0.051\n",
      "访问深度          0.918    5.728      9.8    0.948\n",
      "平均停留时间      165.094  285.992  374.689   104.14\n",
      "订单转化率         0.009    0.016    0.017    0.007\n",
      "投放总时间         8.462     8.57    7.996    8.569\n",
      "素材类型            swf      jpg      swf      jpg\n",
      "广告类型            不确定      不确定       通栏   banner\n",
      "合作方式            cpc      cpc      cpc      cpc\n",
      "广告尺寸         600*90   600*90  900*120  308*388\n",
      "广告卖点             打折       直降       打折       满减\n"
     ]
    },
    {
     "name": "stderr",
     "output_type": "stream",
     "text": [
      "C:\\Users\\kkluc\\Anaconda3\\Anaconda3 64bit\\lib\\site-packages\\ipykernel_launcher.py:14: DeprecationWarning: \n",
      ".ix is deprecated. Please use\n",
      ".loc for label based indexing or\n",
      ".iloc for positional indexing\n",
      "\n",
      "See the documentation here:\n",
      "http://pandas.pydata.org/pandas-docs/stable/indexing.html#ix-indexer-is-deprecated\n",
      "  \n",
      "C:\\Users\\kkluc\\Anaconda3\\Anaconda3 64bit\\lib\\site-packages\\ipykernel_launcher.py:16: DeprecationWarning: \n",
      ".ix is deprecated. Please use\n",
      ".loc for label based indexing or\n",
      ".iloc for positional indexing\n",
      "\n",
      "See the documentation here:\n",
      "http://pandas.pydata.org/pandas-docs/stable/indexing.html#ix-indexer-is-deprecated\n",
      "  app.launch_new_instance()\n",
      "C:\\Users\\kkluc\\Anaconda3\\Anaconda3 64bit\\lib\\site-packages\\ipykernel_launcher.py:18: DeprecationWarning: \n",
      ".ix is deprecated. Please use\n",
      ".loc for label based indexing or\n",
      ".iloc for positional indexing\n",
      "\n",
      "See the documentation here:\n",
      "http://pandas.pydata.org/pandas-docs/stable/indexing.html#ix-indexer-is-deprecated\n",
      "C:\\Users\\kkluc\\Anaconda3\\Anaconda3 64bit\\lib\\site-packages\\ipykernel_launcher.py:20: DeprecationWarning: \n",
      ".ix is deprecated. Please use\n",
      ".loc for label based indexing or\n",
      ".iloc for positional indexing\n",
      "\n",
      "See the documentation here:\n",
      "http://pandas.pydata.org/pandas-docs/stable/indexing.html#ix-indexer-is-deprecated\n"
     ]
    }
   ],
   "source": [
    "# 针对聚类结果的特征分析\n",
    "# part1\n",
    "cluster_labels = pd.DataFrame(cluster_labels_k, columns=['clusters'])  # 获得训练集下的标签信息\n",
    "merge_data = pd.concat((data, cluster_labels), axis=1)  # 将原始处理过的数据跟聚类标签整合\n",
    "# part2\n",
    "clustering_count = pd.DataFrame(merge_data['渠道代号'].groupby(merge_data['clusters']).count()).T.rename(\n",
    "    {'渠道代号': 'counts'})  # 计算每个聚类类别的样本量\n",
    "clustering_ratio = (clustering_count / len(merge_data)).round(2).rename({'counts': 'percentage'})  # 计算每个聚类类别的样本量占比\n",
    "# part3\n",
    "cluster_features = []  # 空列表，用于存储最终合并后的所有特征信息\n",
    "for line in range(best_k):  # 读取每个类索引\n",
    "    label_data = merge_data[merge_data['clusters'] == line]  # 获得特定类的数据\n",
    "\n",
    "    part1_data = label_data.ix[:, 1:8]  # 获得数值型数据特征\n",
    "    part1_desc = part1_data.describe().round(3)  # 得到数值型特征的描述性统计信息\n",
    "    merge_data1 = part1_desc.ix[2, :]  # 得到数值型特征的均值\n",
    "    \n",
    "    part2_data = label_data.ix[:, 8:-1]  # 获得字符串型数据特征\n",
    "    part2_desc = part2_data.describe(include='all')  # 获得字符串型数据特征的描述性统计信息\n",
    "    merge_data2 = part2_desc.ix[2, :]  # 获得字符串型数据特征的最频繁值\n",
    "\n",
    "    merge_line = pd.concat((merge_data1, merge_data2), axis=0)  # 将数值型和字符串型典型特征沿行合并\n",
    "    cluster_features.append(merge_line)  # 将每个类别下的数据特征追加到列表\n",
    "# part4\n",
    "cluster_pd = pd.DataFrame(cluster_features).T  # 将列表转化为矩阵\n",
    "print ('{:*^60}'.format('Detailed features for all clusters:'))\n",
    "all_cluster_set = pd.concat((clustering_count, clustering_ratio, cluster_pd), axis=0)  # 将每个聚类类别的所有信息合并\n",
    "print (all_cluster_set)"
   ]
  },
  {
   "cell_type": "code",
   "execution_count": 39,
   "metadata": {},
   "outputs": [
    {
     "name": "stderr",
     "output_type": "stream",
     "text": [
      "C:\\Users\\kkluc\\Anaconda3\\Anaconda3 64bit\\lib\\site-packages\\ipykernel_launcher.py:4: DeprecationWarning: \n",
      ".ix is deprecated. Please use\n",
      ".loc for label based indexing or\n",
      ".iloc for positional indexing\n",
      "\n",
      "See the documentation here:\n",
      "http://pandas.pydata.org/pandas-docs/stable/indexing.html#ix-indexer-is-deprecated\n",
      "  after removing the cwd from sys.path.\n"
     ]
    },
    {
     "data": {
      "image/png": "[encoded data removed]",
      "text/plain": [
       "<Figure size 432x288 with 1 Axes>"
      ]
     },
     "metadata": {},
     "output_type": "display_data"
    }
   ],
   "source": [
    "\n",
    "# 各类别显著数值特征对比\n",
    "# part1\n",
    "num_sets = cluster_pd.ix[:6, :].T.astype(np.float64)  # 获取要展示的数据\n",
    "num_sets_max_min = minmax_scaler.fit_transform(num_sets)  # 获得标准化后的数据\n",
    "# part2\n",
    "fig = plt.figure()  # 建立画布\n",
    "ax = fig.add_subplot(111, polar=True)  # 增加子网格，注意polar参数\n",
    "labels = np.array(merge_data1.index[:-1])  # 设置要展示的数据标签\n",
    "cor_list = ['r', 'g', 'b', 'y']  # 定义不同类别的颜色\n",
    "angles = np.linspace(0, 2 * np.pi, len(labels), endpoint=False)  # 计算各个区间的角度\n",
    "angles = np.concatenate((angles, [angles[0]]))  # 建立相同首尾字段以便于闭合\n",
    "# part3\n",
    "for i in range(len(num_sets)):  # 循环每个类别\n",
    "    data_tmp = num_sets_max_min[i, :]  # 获得对应类数据\n",
    "    data = np.concatenate((data_tmp, [data_tmp[0]]))  # 建立相同首尾字段以便于闭合\n",
    "    ax.plot(angles, data, 'o-', c=cor_list[i], label=i)  # 画线\n",
    "# part4\n",
    "ax.set_thetagrids(angles * 180 / np.pi, labels, fontproperties=\"SimHei\")  # 设置极坐标轴\n",
    "ax.set_title(\"各聚类类别显著特征对比\", fontproperties=\"SimHei\")  # 设置标题放置\n",
    "ax.set_rlim(-0.2, 1.2)  # 设置坐标轴尺度范围\n",
    "plt.legend(loc=0)  # 设置图例位置\n",
    "plt.show()  # 展示图像\n"
   ]
  },
  {
   "cell_type": "code",
   "execution_count": null,
   "metadata": {},
   "outputs": [],
   "source": []
  }
 ],
 "metadata": {
  "kernelspec": {
   "display_name": "Python 3",
   "language": "python",
   "name": "python3"
  },
  "language_info": {
   "codemirror_mode": {
    "name": "ipython",
    "version": 3
   },
   "file_extension": ".py",
   "mimetype": "text/x-python",
   "name": "python",
   "nbconvert_exporter": "python",
   "pygments_lexer": "ipython3",
   "version": "3.6.5"
  }
 },
 "nbformat": 4,
 "nbformat_minor": 2
}
